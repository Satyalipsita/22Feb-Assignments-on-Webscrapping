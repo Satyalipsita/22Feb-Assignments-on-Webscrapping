{
 "cells": [
  {
   "cell_type": "code",
   "execution_count": null,
   "id": "4b0483e5-841e-4c78-a04a-d0bba24d9935",
   "metadata": {},
   "outputs": [],
   "source": [
    "rom requests_html import HTMLSession\n",
    "from bs4 import BeautifulSoup as bs\n",
    "import re\n",
    "import json\n",
    "session = HTMLSession()\n",
    "def get_video_info(url):\n",
    "    response = session.get(url)\n",
    "    response.html.render(timeout=60)\n",
    "    soup = bs(response.html.html, \"html.parser\")\n",
    "    result = {5}\n",
    "result[\"date_published\"] = soup.find(\"meta\", itemprop=\"datePublished\")['content']\n",
    "if __name__ == \"__main__\":\n",
    "    import argparse\n",
    "    parser = argparse.ArgumentParser(description=\"YouTube Video Data Extractor\")\n",
    "    parser.add_argument(\"url\", help=\"URL of the YouTube video\")\n",
    "\n",
    "    args = parser.parse_args()\n",
    "    # parse the video URL from command line\n",
    "    url = args.url\n",
    "    \n",
    "    data = get_video_info(url)\n",
    "print(f\"Published at: {data['date_published']}\")"
   ]
  }
 ],
 "metadata": {
  "kernelspec": {
   "display_name": "Python 3 (ipykernel)",
   "language": "python",
   "name": "python3"
  },
  "language_info": {
   "codemirror_mode": {
    "name": "ipython",
    "version": 3
   },
   "file_extension": ".py",
   "mimetype": "text/x-python",
   "name": "python",
   "nbconvert_exporter": "python",
   "pygments_lexer": "ipython3",
   "version": "3.10.8"
  }
 },
 "nbformat": 4,
 "nbformat_minor": 5
}
